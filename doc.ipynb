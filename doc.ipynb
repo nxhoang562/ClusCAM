{
 "cells": [
  {
   "cell_type": "code",
   "execution_count": null,
   "id": "5e8ff107",
   "metadata": {},
   "outputs": [],
   "source": [
    "import os\n",
    "import numpy as np\n",
    "\n",
    "# Thư mục chứa các file .npy copy đường dẫn thư mục đó vào đây\n",
    "folder = \"\"\n",
    "\n",
    "# Dict để lưu: khóa là tên file, giá trị là ma trận\n",
    "arrays = {}\n",
    "\n",
    "for fn in os.listdir(folder):\n",
    "    if fn.endswith(\".npy\"):\n",
    "        path = os.path.join(folder, fn)\n",
    "        # np.load sẽ trả về ndarray\n",
    "        arrays[fn] = np.load(path)\n",
    "        print(f\"Đã load {fn}, shape = {arrays[fn].shape}\")\n",
    "\n"
   ]
  },
  {
   "cell_type": "code",
   "execution_count": null,
   "id": "cba0e15c",
   "metadata": {},
   "outputs": [],
   "source": [
    "\n",
    "#truy cập ma trận raw_diffs_K2_V2.npy qua arrays[\"raw_diffs_K2_V2.npy\"], v.v.\n",
    "arrays[\"raw_diffs_K2_V2.npy\"]\n"
   ]
  }
 ],
 "metadata": {
  "language_info": {
   "name": "python"
  }
 },
 "nbformat": 4,
 "nbformat_minor": 5
}
